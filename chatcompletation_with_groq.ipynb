{
  "nbformat": 4,
  "nbformat_minor": 0,
  "metadata": {
    "colab": {
      "provenance": []
    },
    "kernelspec": {
      "name": "python3",
      "display_name": "Python 3"
    },
    "language_info": {
      "name": "python"
    }
  },
  "cells": [
    {
      "cell_type": "code",
      "execution_count": 1,
      "metadata": {
        "colab": {
          "base_uri": "https://localhost:8080/"
        },
        "id": "YoGHAQ8Jemn5",
        "outputId": "d431799d-dc55-4eb5-9184-fbe99e2890fa"
      },
      "outputs": [
        {
          "output_type": "stream",
          "name": "stdout",
          "text": [
            "Collecting groq\n",
            "  Downloading groq-0.32.0-py3-none-any.whl.metadata (16 kB)\n",
            "Requirement already satisfied: anyio<5,>=3.5.0 in /usr/local/lib/python3.12/dist-packages (from groq) (4.11.0)\n",
            "Requirement already satisfied: distro<2,>=1.7.0 in /usr/local/lib/python3.12/dist-packages (from groq) (1.9.0)\n",
            "Requirement already satisfied: httpx<1,>=0.23.0 in /usr/local/lib/python3.12/dist-packages (from groq) (0.28.1)\n",
            "Requirement already satisfied: pydantic<3,>=1.9.0 in /usr/local/lib/python3.12/dist-packages (from groq) (2.11.10)\n",
            "Requirement already satisfied: sniffio in /usr/local/lib/python3.12/dist-packages (from groq) (1.3.1)\n",
            "Requirement already satisfied: typing-extensions<5,>=4.10 in /usr/local/lib/python3.12/dist-packages (from groq) (4.15.0)\n",
            "Requirement already satisfied: idna>=2.8 in /usr/local/lib/python3.12/dist-packages (from anyio<5,>=3.5.0->groq) (3.10)\n",
            "Requirement already satisfied: certifi in /usr/local/lib/python3.12/dist-packages (from httpx<1,>=0.23.0->groq) (2025.10.5)\n",
            "Requirement already satisfied: httpcore==1.* in /usr/local/lib/python3.12/dist-packages (from httpx<1,>=0.23.0->groq) (1.0.9)\n",
            "Requirement already satisfied: h11>=0.16 in /usr/local/lib/python3.12/dist-packages (from httpcore==1.*->httpx<1,>=0.23.0->groq) (0.16.0)\n",
            "Requirement already satisfied: annotated-types>=0.6.0 in /usr/local/lib/python3.12/dist-packages (from pydantic<3,>=1.9.0->groq) (0.7.0)\n",
            "Requirement already satisfied: pydantic-core==2.33.2 in /usr/local/lib/python3.12/dist-packages (from pydantic<3,>=1.9.0->groq) (2.33.2)\n",
            "Requirement already satisfied: typing-inspection>=0.4.0 in /usr/local/lib/python3.12/dist-packages (from pydantic<3,>=1.9.0->groq) (0.4.2)\n",
            "Downloading groq-0.32.0-py3-none-any.whl (135 kB)\n",
            "\u001b[2K   \u001b[90m━━━━━━━━━━━━━━━━━━━━━━━━━━━━━━━━━━━━━━━━\u001b[0m \u001b[32m135.4/135.4 kB\u001b[0m \u001b[31m3.0 MB/s\u001b[0m eta \u001b[36m0:00:00\u001b[0m\n",
            "\u001b[?25hInstalling collected packages: groq\n",
            "Successfully installed groq-0.32.0\n"
          ]
        }
      ],
      "source": [
        "!pip install groq"
      ]
    },
    {
      "cell_type": "code",
      "source": [
        "import os\n",
        "os.environ[\"GROQ_API_KEY\"] = \"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\""
      ],
      "metadata": {
        "id": "rjUTl6xrer84"
      },
      "execution_count": 2,
      "outputs": []
    },
    {
      "cell_type": "code",
      "source": [
        "from groq import Groq\n",
        "client = Groq(api_key=os.getenv(\"GROQ_API_KEY\"))"
      ],
      "metadata": {
        "id": "GJFeOCL1e8ug"
      },
      "execution_count": 4,
      "outputs": []
    },
    {
      "cell_type": "code",
      "source": [
        "resp = client.chat.completions.create(\n",
        "    model=\"llama-3.1-8b-instant\",   # ✅ updated model\n",
        "    messages=[{\"role\": \"user\", \"content\": \"Write a content about bangladesh\"}],\n",
        ")\n",
        "\n",
        "print(resp.choices[0].message.content)\n"
      ],
      "metadata": {
        "colab": {
          "base_uri": "https://localhost:8080/"
        },
        "id": "-UtOxjsffn03",
        "outputId": "91e0667b-09d0-44c3-962d-accab2bf0c75"
      },
      "execution_count": 11,
      "outputs": [
        {
          "output_type": "stream",
          "name": "stdout",
          "text": [
            "**Discover the Beauty of Bangladesh: A Country Steeped in History, Culture, and Natural Wonders**\n",
            "\n",
            "Located in South Asia, Bangladesh is a country with a rich and diverse cultural heritage, a complex history, and breathtaking natural beauty. With a population of over 160 million people, Bangladesh is the eighth most populous country in the world. Its strategic location on the Bay of Bengal makes it an important hub for international trade and commerce.\n",
            "\n",
            "**History and Culture**\n",
            "\n",
            "Bangladesh has a complex and ancient history, dating back to the Indus Valley Civilization, which flourished around 4000 BCE. The country was later ruled by various empires, including the Mauryan, Gupta, and Mughal dynasties. The Bengal region has a distinct cultural identity, with its own language, literature, music, and art.\n",
            "\n",
            "The country's struggle for independence from British colonial rule was marked by significant events, including the Language Movement of 1952 and the Bangladesh Liberation War of 1971. The war resulted in the independence of Bangladesh on December 16, 1971, with India playing a crucial role in supporting the country's struggle.\n",
            "\n",
            "**Natural Wonders**\n",
            "\n",
            "Bangladesh is home to some of the most beautiful and diverse landscapes in the world. The country's geography is characterized by:\n",
            "\n",
            "1. **Mangrove Forests**: The Sundarbans, the largest mangrove forest in the world, is a UNESCO World Heritage Site and home to the majestic Bengal tiger.\n",
            "2. **Mountains**: The Chittagong Hill Tracts and the Sylhet region are home to mountains, tea estates, and picturesque valleys.\n",
            "3. **Deltas**: The Ganges-Brahmaputra delta is one of the world's largest and most fertile deltas, supporting agriculture and fishing industries.\n",
            "4. **Beaches**: The country's coastline offers beautiful beaches, including Cox's Bazar, which boasts the world's longest natural sea beach.\n",
            "\n",
            "**Places to Visit**\n",
            "\n",
            "Some must-visit destinations in Bangladesh include:\n",
            "\n",
            "1. **Dhaka**: The capital city, known for its rich history, vibrant culture, and bustling streets.\n",
            "2. **Sylhet**: A city famous for its tea estates, scenic beauty, and the famous Hazrat Shahjalal Mazar.\n",
            "3. **Chittagong**: The port city, known for its colonial architecture, hill tracks, and the famous Chittagong Hill Tracts.\n",
            "4. **Sundarbans**: The world's largest mangrove forest, a UNESCO World Heritage Site and home to the Bengal tiger.\n",
            "5. **Cox's Bazar**: A popular beach destination, known for its beautiful beach and seafood.\n",
            "\n",
            "**Cuisine**\n",
            "\n",
            "Bangladeshi cuisine is a unique blend of Indian, Middle Eastern, and Chinese flavors. Some popular dishes include:\n",
            "\n",
            "1. **Biryani**: A flavorful rice dish made with meat, vegetables, and spices.\n",
            "2. **Hilsa**: A popular fish dish, often served with mustard sauce.\n",
            "3. **Kacchi Biryani**: A simple yet flavorful rice dish made with onions, spices, and meat or vegetables.\n",
            "4. **Fuchka**: A popular street food, consisting of a crispy fried puri filled with boiled potatoes, onions, and chickpeas.\n",
            "\n",
            "**Conclusion**\n",
            "\n",
            "Bangladesh is a country with a rich history, diverse culture, and breathtaking natural beauty. Its complex and ancient heritage, combined with its strategic location, makes it an important hub for international trade and commerce. From the mangrove forests of Sundarbans to the beautiful beaches of Cox's Bazar, Bangladesh offers countless opportunities for adventure, exploration, and cultural enrichment.\n"
          ]
        }
      ]
    },
    {
      "cell_type": "code",
      "source": [
        "messages = [\n",
        "    {\"role\": \"system\", \"content\": \"You are a helpful assistant.\"},\n",
        "    {\"role\": \"user\", \"content\": \"Explain how Groq API differs from OpenAI API.\"}\n",
        "]\n",
        "\n",
        "resp = client.chat.completions.create(\n",
        "    model=\"llama-3.1-8b-instant\",\n",
        "    messages=messages\n",
        ")\n",
        "\n",
        "print(resp.choices[0].message.content)"
      ],
      "metadata": {
        "colab": {
          "base_uri": "https://localhost:8080/"
        },
        "id": "F3936zJpg3y9",
        "outputId": "cdc074fc-707f-46f0-8f62-18b189a44268"
      },
      "execution_count": 12,
      "outputs": [
        {
          "output_type": "stream",
          "name": "stdout",
          "text": [
            "Groq and OpenAI are both AI-focused companies that offer powerful APIs for various applications, but they have distinct differences in their approaches, architecture, and capabilities.\n",
            "\n",
            "**Groq API:**\n",
            "\n",
            "Groq is an AI company that specializes in building custom AI chips and providing AI software tools. Their API, known as Groq API, is designed for deep learning workloads and is built on top of their custom AI hardware.\n",
            "\n",
            "Key features of Groq API:\n",
            "\n",
            "1. **Specialized hardware:** Groq API leverages their custom AI chips, which are optimized for deep learning workloads. This provides significant performance improvements compared to general-purpose hardware.\n",
            "2. **Cloud acceleration:** Groq API can be integrated with popular cloud providers like AWS and Google Cloud, allowing users to run AI workloads on cloud infrastructure while leveraging Groq's custom hardware acceleration.\n",
            "3. **Low-latency processing:** Groq API is optimized for low-latency processing, making it suitable for real-time applications like computer vision, natural language processing, and more.\n",
            "4. **Customization:** Groq API allows for customization of models, allowing developers to fine-tune their models for specific use cases.\n",
            "\n",
            "**OpenAI API:**\n",
            "\n",
            "OpenAI is a leading AI research organization that provides a range of AI-powered APIs for text, images, and audio processing. Their API is designed for a wide range of applications, from chatbots to content generation.\n",
            "\n",
            "Key features of OpenAI API:\n",
            "\n",
            "1. **General-purpose architecture:** OpenAI API is built on a general-purpose architecture, which allows it to support a wide range of AI workloads, including NLP, computer vision, and more.\n",
            "2. **Pre-trained models:** OpenAI API comes with pre-trained models that can be fine-tuned for specific use cases, reducing the need for extensive model training.\n",
            "3. **Large model capabilities:** OpenAI API supports large language models, allowing for more complex and accurate text-based tasks.\n",
            "4. **Integration with other tools:** OpenAI API has seamless integration with other development tools and frameworks.\n",
            "\n",
            "**Key differences:**\n",
            "\n",
            "1. **Hardware specialization:** Groq API is built on custom AI hardware, while OpenAI API is designed for general-purpose hardware.\n",
            "2. **Workload focus:** Groq API is optimized for deep learning workloads, while OpenAI API supports a broader range of AI workloads.\n",
            "3. **Latency and performance:** Groq API is designed for low-latency processing, while OpenAI API may be more suitable for applications that require higher computational power.\n",
            "4. **Customization:** Groq API allows for more customization of models and hyperparameters, while OpenAI API provides pre-trained models that can be fine-tuned.\n",
            "\n",
            "In summary, Groq API is tailored for deep learning workloads with a focus on low-latency processing, while OpenAI API is a more general-purpose API suitable for a wide range of AI applications.\n"
          ]
        }
      ]
    },
    {
      "cell_type": "code",
      "source": [
        "stream = client.chat.completions.create(\n",
        "    model=\"llama-3.1-8b-instant\",\n",
        "    messages=[{\"role\": \"user\", \"content\": \"Explain AI in one paragraph\"}],\n",
        "    stream=True\n",
        ")\n",
        "\n",
        "# ✅ Use dot notation to access content safely\n",
        "for chunk in stream:\n",
        "    if chunk.choices[0].delta and chunk.choices[0].delta.content:\n",
        "        print(chunk.choices[0].delta.content, end=\"\", flush=True)\n",
        "\n",
        "#1️⃣ chunk.choices[0]\n",
        "\n",
        "\n",
        "#প্রতিটা chunk-এর মধ্যে এক বা একাধিক \"choice\" থাকতে পারে।\n",
        "\n",
        "\n",
        "#আমরা প্রথমটা নিচ্ছি [0]।\n",
        "\n",
        "\n",
        "#2️⃣ chunk.choices[0].delta\n",
        "\n",
        "\n",
        "#এই delta হচ্ছে সেই অংশ যেখানে নতুন করে আসা টেক্সট থাকে।\n",
        "\n",
        "\n",
        "#আগের chunk থেকে যেটা অতিরিক্ত এসেছে, সেটাই এখানে থাকে।\n",
        "\n",
        "\n",
        "#👉 উদাহরণ:\n",
        "\n",
        "\n",
        "#১ম chunk → \"AI \"\n",
        "\n",
        "\n",
        "#২য় chunk → \"is \"\n",
        "\n",
        "\n",
        "#৩য় chunk → \"powerful.\"\n",
        "\n",
        "#প্\n",
        "#রতিবার .delta.content এ নতুন অংশটা থাকে।\n",
        "\n",
        "\n",
        "#3️⃣ if chunk.choices[0].delta and chunk.choices[0].delta.content:\n",
        "\n",
        "\n",
        "#এই লাইনটা নিরাপত্তার জন্য।\n",
        "\n",
        "\n",
        "#কারণ, সব chunk-এ টেক্সট নাও থাকতে পারে (কখনও কেবল মেটাডেটা থাকে)।\n",
        "\n",
        "\n",
        "#তাই আগে দেখি .delta আছে কি না, আর .content ফাঁকা না কি।\n",
        "\n",
        "\n",
        "#যদি দুটোই থাকে, তবেই প্রিন্ট করব।\n",
        "\n",
        "\n",
        "#4️⃣ print(chunk.choices[0].delta.content, end=\"\", flush=True)\n",
        "\n",
        "\n",
        "#.content মানে ওই মুহূর্তে পাওয়া নতুন টেক্সট অংশ।\n",
        "\n",
        "\n",
        "#end=\"\" দিলে প্রতিবার প্রিন্ট করার পর নতুন লাইন পড়ে না (সব এক লাইনে আসে)।\n",
        "\n",
        "\n",
        "#flush=True দিলে আউটপুট সঙ্গে সঙ্গে স্ক্রিনে দেখা যায় (বাফারে জমে থাকে না)।"
      ],
      "metadata": {
        "colab": {
          "base_uri": "https://localhost:8080/"
        },
        "id": "cPcTpefehOwN",
        "outputId": "5a69cabe-5884-4c1a-8d34-135391e5ecfd"
      },
      "execution_count": 16,
      "outputs": [
        {
          "output_type": "stream",
          "name": "stdout",
          "text": [
            "Artificial Intelligence (AI) refers to the development of computer systems that can perform tasks that typically require human intelligence, such as learning, problem-solving, decision-making, and perception. AI systems can be trained on vast amounts of data to recognize patterns, classify objects, and make predictions, allowing them to automate repetitive tasks and improve efficiency in various industries. There are several types of AI, including Narrow or Weak AI, which is designed to perform a specific task, and General or Strong AI, which aims to replicate human intelligence and ability to learn and adapt. AI has numerous applications, including virtual assistants, image and speech recognition, natural language processing, and expert systems, making it an increasingly essential tool in modern technology and industries such as healthcare, finance, and transportation."
          ]
        }
      ]
    },
    {
      "cell_type": "code",
      "source": [
        "# ChatCompletion API\n",
        "\n",
        "\n",
        "prompt1 = \"Hello How are you?\"\n",
        "prompt2 = \"I am 25 years old & I am a Programmer\"\n",
        "prompt3 = \"Tell me about me\"\n",
        "\n",
        "# --- ChatCompletion call ---\n",
        "response = client.chat.completions.create(\n",
        "    model=\"llama-3.1-8b-instant\",  # Groq model name (বা \"llama3-70b-8192\")\n",
        "    messages=[\n",
        "        {\"role\": \"system\", \"content\": \"You are a helpful assistant.\"},\n",
        "        {\"role\": \"user\", \"content\": prompt1},\n",
        "        {\"role\": \"user\", \"content\": prompt2},\n",
        "        {\"role\": \"user\", \"content\": prompt3},\n",
        "    ]\n",
        ")\n",
        "\n",
        "# --- Output print ---\n",
        "print(response.choices[0].message.content)"
      ],
      "metadata": {
        "colab": {
          "base_uri": "https://localhost:8080/"
        },
        "id": "UF4_lriWkqxV",
        "outputId": "85185c6b-91ba-470e-9e0e-e23b62600f77"
      },
      "execution_count": 19,
      "outputs": [
        {
          "output_type": "stream",
          "name": "stdout",
          "text": [
            "It's great to hear from you. Based on the information you've shared, here's what I can tell about you:\n",
            "\n",
            "**Age:** 25 years old\n",
            "**Occupation:** Programmer\n",
            "\n",
            "As a 25-year-old programmer, you're likely at a crucial stage in your professional journey. You've probably just entered the workforce or are in a few years of experience. Programming skills can open many doors, and you might be in demand for various roles, such as:\n",
            "\n",
            "- Software developer\n",
            "- Web developer\n",
            "- Mobile app developer\n",
            "- Data scientist (if you specialize in data analysis and machine learning)\n",
            "\n",
            "You might have started with basic programming languages like Java, Python, or JavaScript and have a strong foundation in software development methodologies. As you grow in your career, you could move towards specializing in specific areas, like AI, machine learning, or cybersecurity.\n",
            "\n",
            "**Hobbies and interests:** Although I don't know your personal preferences, programmers often enjoy activities like:\n",
            "\n",
            "- Learning new programming languages\n",
            "- Participating in coding challenges (e.g., HackerRank, LeetCode)\n",
            "- Contributing to open-source projects\n",
            "- Creating personal projects or side hustles\n",
            "- Reading books on programming, science, or technology\n",
            "- Participating in coding communities or forums\n",
            "- Attending tech conferences or meetups\n",
            "\n",
            "**Goals and aspirations:** As a programmer, you might aim to:\n",
            "\n",
            "- Improve your skills and stay up-to-date with the latest technologies\n",
            "- Find a job or start a successful business in the tech industry\n",
            "- Collaborate with other programmers or teams on exciting projects\n",
            "- Make a positive impact through your coding and contribute to society\n",
            "- Achieve a work-life balance and maintain a healthy lifestyle\n",
            "\n",
            "I've made some educated guesses about you, but I want to emphasize that this is not an exhaustive list. Feel free to share more about yourself, and I'll be happy to learn more!\n"
          ]
        }
      ]
    },
    {
      "cell_type": "code",
      "source": [
        "\n",
        "prompt = \"What is Python?\"\n",
        "\n",
        "response = client.chat.completions.create(\n",
        "    model=\"llama-3.1-8b-instant\",  # বা \"llama3-70b-8192\"\n",
        "    messages=[\n",
        "        {\"role\": \"system\", \"content\": \"You are a helpful assistant.\"},\n",
        "        {\"role\": \"user\", \"content\": prompt}\n",
        "    ],\n",
        "    temperature=0.6,\n",
        "    n=1   # ✅ Groq supports only n=1\n",
        ")\n",
        "\n",
        "print(response.choices[0].message.content)"
      ],
      "metadata": {
        "colab": {
          "base_uri": "https://localhost:8080/"
        },
        "id": "76bAQKzZmJI4",
        "outputId": "f28d13e6-f627-4af8-8acd-1fb80cc5d4bc"
      },
      "execution_count": 22,
      "outputs": [
        {
          "output_type": "stream",
          "name": "stdout",
          "text": [
            "**What is Python?**\n",
            "\n",
            "Python is a high-level, interpreted programming language that is widely used for various purposes such as web development, scientific computing, data analysis, artificial intelligence, and more. It was created in the late 1980s by Guido van Rossum and was first released in 1991.\n",
            "\n",
            "**Key Features of Python:**\n",
            "\n",
            "1. **Easy to Learn:** Python has a simple syntax and is relatively easy to learn, making it a great language for beginners.\n",
            "2. **High-Level Language:** Python is a high-level language, meaning it abstracts away many low-level details, allowing developers to focus on the logic of the program without worrying about the details of memory management, etc.\n",
            "3. **Interpreted Language:** Python code is interpreted at runtime, meaning that the code is executed line by line, rather than being compiled into machine code beforehand.\n",
            "4. **Dynamic Typing:** Python is dynamically typed, meaning that the data type of a variable is determined at runtime, rather than at compile time.\n",
            "5. **Object-Oriented:** Python is an object-oriented language, meaning that it supports the principles of encapsulation, inheritance, and polymorphism.\n",
            "\n",
            "**Why Use Python?**\n",
            "\n",
            "1. **Fast Development:** Python's syntax and nature make it an ideal choice for rapid prototyping and development.\n",
            "2. **Large Community:** Python has a large and active community, which means there are many libraries, frameworks, and tools available for various tasks.\n",
            "3. **Cross-Platform:** Python can run on multiple operating systems, including Windows, macOS, and Linux.\n",
            "4. **Extensive Libraries:** Python has a vast collection of libraries and frameworks that make it suitable for various applications, such as web development, data analysis, machine learning, and more.\n",
            "\n",
            "**Common Uses of Python:**\n",
            "\n",
            "1. **Web Development:** Python is used for building web applications using popular frameworks like Django and Flask.\n",
            "2. **Data Analysis:** Python is widely used for data analysis and visualization using libraries like Pandas, NumPy, and Matplotlib.\n",
            "3. **Machine Learning:** Python is used for building machine learning models using libraries like scikit-learn and TensorFlow.\n",
            "4. **Automation:** Python is often used for automating tasks, such as data entry, file management, and system administration.\n",
            "\n",
            "Overall, Python is a versatile and powerful language that is widely used in various fields, making it an excellent choice for beginners and experienced developers alike.\n"
          ]
        }
      ]
    },
    {
      "cell_type": "code",
      "source": [
        "\n",
        "\n",
        "\n",
        "prompt = \"Give me bangla translation of this sentence: This Movie is Amazing!\"\n",
        "\n",
        "# --- ChatCompletion ---\n",
        "response = client.chat.completions.create(\n",
        "    model=\"llama-3.1-8b-instant\",   # বা \"llama3-70b-8192\"\n",
        "    messages=[\n",
        "        {\"role\": \"system\", \"content\": \"You are a helpful assistant.\"},\n",
        "        {\"role\": \"user\", \"content\": prompt}\n",
        "    ],\n",
        "    temperature=0.6\n",
        ")\n",
        "\n",
        "# --- Output print ---\n",
        "print(response.choices[0].message.content)"
      ],
      "metadata": {
        "colab": {
          "base_uri": "https://localhost:8080/"
        },
        "id": "uODl_MyBnLg4",
        "outputId": "9bd90215-81e9-4a69-d8cc-39d3f4ee0514"
      },
      "execution_count": 25,
      "outputs": [
        {
          "output_type": "stream",
          "name": "stdout",
          "text": [
            "এই চলচ্চিত্রটি অতুলনীয় আমাজিং!\n"
          ]
        }
      ]
    }
  ]
}